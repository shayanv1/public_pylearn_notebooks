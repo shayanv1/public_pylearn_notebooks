{
  "metadata": {
    "kernelspec": {
      "name": "python",
      "display_name": "Python (Pyodide)",
      "language": "python"
    },
    "language_info": {
      "codemirror_mode": {
        "name": "python",
        "version": 3
      },
      "file_extension": ".py",
      "mimetype": "text/x-python",
      "name": "python",
      "nbconvert_exporter": "python",
      "pygments_lexer": "ipython3",
      "version": "3.8"
    }
  },
  "nbformat_minor": 4,
  "nbformat": 4,
  "cells": [
    {
      "cell_type": "markdown",
      "source": "به اولین آزمایشگاه مجازی وبسایت پای اینترکت خوش آمدید! در اینجا ما به طور کامل نحوه نوشتن دستورات در پایتون را به شما نشان میدهیم",
      "metadata": {}
    },
    {
      "cell_type": "markdown",
      "source": "مرحله اولی که باید انجام بدهید نصب پایتون است که میتوانید آن را از آدرسی که در ابتدای این آموزش به شما داده شده است دانلود کنید",
      "metadata": {}
    },
    {
      "cell_type": "markdown",
      "source": "شما میتوانید دستورات را هم در این آزمایشگاه و هم در محیط ترمینال خودتان اجرا کنید",
      "metadata": {}
    },
    {
      "cell_type": "markdown",
      "source": "برای شروع نوشتن دستورات پایتون به طور مستقیم و بدون ذخیره سازی میتوانید از دستور زیر استفاده کنید",
      "metadata": {}
    },
    {
      "cell_type": "markdown",
      "source": "python",
      "metadata": {}
    },
    {
      "cell_type": "markdown",
      "source": "این دستور را در ترمینال خود اجرا کنید تا متن زیر را ببینید",
      "metadata": {}
    },
    {
      "cell_type": "markdown",
      "source": "Python 3.10.2 (tags/v3.10.2:a58ebcc, Jan 17 2022, 14:12:15) [MSC v.1929 64 bit (AMD64)] on win32\nType \"help\", \"copyright\", \"credits\" or \"license\" for more information.\n>>>",
      "metadata": {}
    },
    {
      "cell_type": "markdown",
      "source": "ممکن است کمی تفاوت وجود داشته باشد اما تا زمانی که خطایی را مشاهده نکردید مشکلیل وجود ندارد، اگر با خطایی مواجه شدید به احتمال زیاد پایتون را اشتباه نصب کرده اید یا اینکه از نسخه های جدید پایتون در ویندوز 7 استفاده کرده اید (برای کاربران ویندوز 7 پیشنهاد میشود که از پایتون نسخه 3.6.2 استفاده کنند)",
      "metadata": {}
    },
    {
      "cell_type": "markdown",
      "source": "اکنون میتوانید شروع به نوشتن دستورات پایتون بکنید",
      "metadata": {}
    },
    {
      "cell_type": "markdown",
      "source": "میتوانید برای شروع از ساده ترین دستور پایتون برای نوشتن متنی که به آن می دهید استفاده کنید",
      "metadata": {}
    },
    {
      "cell_type": "code",
      "source": "print(\"Hello World!\")",
      "metadata": {
        "trusted": true
      },
      "outputs": [],
      "execution_count": null
    },
    {
      "cell_type": "markdown",
      "source": "اکنون اگر چیزی شبیه متن زیر را میبینید یعنی درست پیش رفته اید",
      "metadata": {}
    },
    {
      "cell_type": "markdown",
      "source": "Python 3.10.2 (tags/v3.10.2:a58ebcc, Jan 17 2022, 14:12:15) [MSC v.1929 64 bit (AMD64)] on win32\r\nType \"help\", \"copyright\", \"credits\" or \"license\" for more information.\r\n>>> print(\"Hello World!\")\r\nHello World!\r\n>>>",
      "metadata": {}
    },
    {
      "cell_type": "markdown",
      "source": "اکنون میتوانید هر زمان که نیاز به اجرای دستورات پایتون داشتید وارد ترمینال شوید، دستور پایتون را بنویسید تا وارد ترمینال پایتون شوید و سپس دستورات خود را بنویسید\nدر صورتی که میخواهید از محیط پایتون خارج شوید میتوانید از کلید\nCtrl + Z\nو سپس از\nEnter\nاستفاده کنید، یا میتوانید از دستور\nexit()\nبرای خروج از محیط استفاده کنید",
      "metadata": {}
    },
    {
      "cell_type": "markdown",
      "source": "حالا که یاد گرفتید چگونه از ترمینال برای اجرای دستورات پایتون استفاده کنید، نوبت این است که کد های خود را در یک فایل ذخیره و آن را اجرا کنید",
      "metadata": {}
    },
    {
      "cell_type": "markdown",
      "source": "اکنون میتوانید از آزمایشگاه خارج شوید",
      "metadata": {}
    }
  ]
}